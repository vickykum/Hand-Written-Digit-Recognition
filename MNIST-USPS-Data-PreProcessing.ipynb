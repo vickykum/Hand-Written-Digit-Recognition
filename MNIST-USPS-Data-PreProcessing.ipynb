{
 "cells": [
  {
   "cell_type": "markdown",
   "metadata": {},
   "source": [
    "## Load MNIST on Python 3.x"
   ]
  },
  {
   "cell_type": "code",
   "execution_count": 1,
   "metadata": {},
   "outputs": [],
   "source": [
    "import pickle\n",
    "import gzip"
   ]
  },
  {
   "cell_type": "code",
   "execution_count": 2,
   "metadata": {},
   "outputs": [],
   "source": [
    "filename = 'mnist.pkl.gz'\n",
    "f = gzip.open(filename, 'rb')\n",
    "training_data, validation_data, test_data = pickle.load(f, encoding='latin1')\n",
    "f.close()"
   ]
  },
  {
   "cell_type": "markdown",
   "metadata": {},
   "source": [
    "## Load USPS on Python 3.x"
   ]
  },
  {
   "cell_type": "code",
   "execution_count": 3,
   "metadata": {},
   "outputs": [],
   "source": [
    "from PIL import Image\n",
    "import os\n",
    "import numpy as np"
   ]
  },
  {
   "cell_type": "code",
   "execution_count": 4,
   "metadata": {},
   "outputs": [],
   "source": [
    "USPSMat  = []\n",
    "USPSTar  = []\n",
    "curPath  = 'USPSdata/Numerals'\n",
    "savedImg = []\n",
    "\n",
    "for j in range(0,10):\n",
    "    curFolderPath = curPath + '/' + str(j)\n",
    "    imgs =  os.listdir(curFolderPath)\n",
    "    for img in imgs:\n",
    "        curImg = curFolderPath + '/' + img\n",
    "        if curImg[-3:] == 'png':\n",
    "            img = Image.open(curImg,'r')\n",
    "            img = img.resize((28, 28))\n",
    "            savedImg = img\n",
    "            imgdata = (255-np.array(img.getdata()))/255\n",
    "            USPSMat.append(imgdata)\n",
    "            USPSTar.append(j)"
   ]
  },
  {
   "cell_type": "code",
   "execution_count": 23,
   "metadata": {},
   "outputs": [],
   "source": [
    "#Reduced size matrix of MNIST Data to be used in fututre\n",
    "trD = training_data[0][0:50000]\n",
    "trT = training_data[1][0:50000]\n",
    "testD = test_data[0][0:100000]\n",
    "testT = test_data[1][0:10000]\n",
    "valD = validation_data[0][0:10000]\n",
    "valT = validation_data[1][0:10000]"
   ]
  },
  {
   "cell_type": "code",
   "execution_count": null,
   "metadata": {},
   "outputs": [],
   "source": []
  },
  {
   "cell_type": "markdown",
   "metadata": {},
   "source": [
    "# Neural Networks"
   ]
  },
  {
   "cell_type": "code",
   "execution_count": 7,
   "metadata": {},
   "outputs": [
    {
     "name": "stderr",
     "output_type": "stream",
     "text": [
      "Using TensorFlow backend.\n"
     ]
    }
   ],
   "source": [
    "#Refer to project 3 support pdf where the helper code is given \n",
    "import keras\n",
    "from keras.models import Sequential\n",
    "from keras.layers import Dense\n",
    "num_classes=10\n",
    "image_vector_size=28*28\n",
    "image_size = 784\n",
    "\n",
    "\n",
    "x_train = trD.reshape(trD.shape[0], image_vector_size)\n",
    "y_train = keras.utils.to_categorical(trT, num_classes)\n",
    "\n",
    "x_test = testD.reshape(testD.shape[0], image_vector_size)\n",
    "y_test = keras.utils.to_categorical(testT, num_classes)\n",
    "\n"
   ]
  },
  {
   "cell_type": "code",
   "execution_count": 8,
   "metadata": {},
   "outputs": [
    {
     "name": "stdout",
     "output_type": "stream",
     "text": [
      "Accuracy in neural network  86.3 %\n"
     ]
    },
    {
     "data": {
      "text/plain": [
       "<keras.callbacks.History at 0x19b5b5c5dd8>"
      ]
     },
     "execution_count": 8,
     "metadata": {},
     "output_type": "execute_result"
    }
   ],
   "source": [
    "model = Sequential()\n",
    "model.add(Dense(units=32, activation='sigmoid', input_shape=(image_size,)))\n",
    "model.add(Dense(units=num_classes, activation='softmax'))\n",
    "model.compile(optimizer='sgd', loss='categorical_crossentropy',metrics=['accuracy'])\n",
    "history = model.fit(x_train, y_train, batch_size=128, epochs=100,verbose=False,validation_split=.1)\n",
    "loss,accuracy = model.evaluate(x_test, y_test, verbose=False)\n",
    "print('Accuracy in neural network ',accuracy*100,'%')\n",
    "history"
   ]
  },
  {
   "cell_type": "markdown",
   "metadata": {},
   "source": [
    "# SVM Method (Support Vector Machine)"
   ]
  },
  {
   "cell_type": "code",
   "execution_count": 13,
   "metadata": {},
   "outputs": [
    {
     "name": "stdout",
     "output_type": "stream",
     "text": [
      "Accuracy in Validation Data  91.8 %\n",
      "Accuracy in Testing Data  90.9 %\n"
     ]
    }
   ],
   "source": [
    "#Not necessary for validation data but enough data is given to read so just showing possible accuacy\n",
    "from sklearn.svm import SVC\n",
    "\n",
    "#svm model with linear kernel\n",
    "svmModel = SVC(kernel = 'linear')\n",
    "svmModel.fit(trD,trT)\n",
    "x = svmModel.score(testD,testT)\n",
    "y = svmModel.score(valD,valT)\n",
    "print('Accuracy in Validation Data ', y*100,'%')\n",
    "print('Accuracy in Testing Data ', x*100,'%')"
   ]
  },
  {
   "cell_type": "code",
   "execution_count": 14,
   "metadata": {},
   "outputs": [
    {
     "data": {
      "text/plain": [
       "2"
      ]
     },
     "execution_count": 14,
     "metadata": {},
     "output_type": "execute_result"
    }
   ],
   "source": [
    "1+1"
   ]
  },
  {
   "cell_type": "markdown",
   "metadata": {},
   "source": [
    "# Random Forest Method"
   ]
  },
  {
   "cell_type": "code",
   "execution_count": 15,
   "metadata": {},
   "outputs": [
    {
     "name": "stdout",
     "output_type": "stream",
     "text": [
      "Accuracy in RFC Testing data  93.7 %\n",
      "Accuracy in RFC Validation data 93.7 %\n"
     ]
    }
   ],
   "source": [
    "from sklearn.ensemble import RandomForestClassifier\n",
    "n_train = 5000\n",
    "n_test = 1000\n",
    "#RandomForestClassifier\n",
    "rfcModel = RandomForestClassifier(n_estimators=100);\n",
    "rfcModel.fit(trD, trT) \n",
    "testedData = rfcModel.predict(testD)\n",
    "\n",
    "count = 0\n",
    "total = len(testT)\n",
    "for i in range(0,total):\n",
    "    if testT[i] == testedData[i]:\n",
    "        count +=1\n",
    "print('Accuracy in RFC Testing data ',count*100/total,'%')\n",
    "print('Accuracy in RFC Validation data',rfcModel.score(testD,testT)*100,'%')\n"
   ]
  },
  {
   "cell_type": "code",
   "execution_count": 16,
   "metadata": {},
   "outputs": [
    {
     "name": "stdout",
     "output_type": "stream",
     "text": [
      "Accuracy in SVM for USPS data  33.18165908295415 %\n",
      "Accuracy in RFC for USPS data  36.14680734036702 %\n"
     ]
    }
   ],
   "source": [
    "uspsMat = np.array(USPSMat)\n",
    "uspsTar = np.array(USPSTar)\n",
    "print('Accuracy in SVM for USPS data ',svmModel.score(uspsMat,uspsTar)*100,'%')\n",
    "print('Accuracy in RFC for USPS data ',rfcModel.score(uspsMat,uspsTar)*100,'%')\n"
   ]
  },
  {
   "cell_type": "code",
   "execution_count": 17,
   "metadata": {},
   "outputs": [
    {
     "name": "stdout",
     "output_type": "stream",
     "text": [
      "Accuracy in Neural Network for USPS data  33.316665833291665 %\n"
     ]
    }
   ],
   "source": [
    "x_test2 = uspsMat.reshape(uspsMat.shape[0], image_vector_size)\n",
    "y_test2 = keras.utils.to_categorical(uspsTar, num_classes)\n",
    "print('Accuracy in Neural Network for USPS data ',model.evaluate(x_test2, y_test2, verbose=False)[1]*100,'%')\n"
   ]
  },
  {
   "cell_type": "markdown",
   "metadata": {},
   "source": [
    "# Logistic Regression"
   ]
  },
  {
   "cell_type": "code",
   "execution_count": 18,
   "metadata": {},
   "outputs": [
    {
     "name": "stderr",
     "output_type": "stream",
     "text": [
      "c:\\users\\vickykumar\\appdata\\local\\programs\\python\\python36\\lib\\site-packages\\sklearn\\linear_model\\logistic.py:432: FutureWarning: Default solver will be changed to 'lbfgs' in 0.22. Specify a solver to silence this warning.\n",
      "  FutureWarning)\n",
      "c:\\users\\vickykumar\\appdata\\local\\programs\\python\\python36\\lib\\site-packages\\sklearn\\linear_model\\logistic.py:459: FutureWarning: Default multi_class will be changed to 'auto' in 0.22. Specify the multi_class option to silence this warning.\n",
      "  \"this warning.\", FutureWarning)\n"
     ]
    },
    {
     "name": "stdout",
     "output_type": "stream",
     "text": [
      "Accuracy test data  89.0 %\n",
      "Accuracy validation data  89.7 %\n"
     ]
    }
   ],
   "source": [
    "from sklearn.linear_model import LogisticRegression\n",
    "Lr = LogisticRegression()\n",
    "Lr.fit(trD,trT)\n",
    "print('Accuracy test data ',Lr.score(testD,testT)*100,'%')\n",
    "print('Accuracy validation data ',Lr.score(valD,valT)*100,'%')"
   ]
  },
  {
   "cell_type": "code",
   "execution_count": 19,
   "metadata": {},
   "outputs": [
    {
     "name": "stdout",
     "output_type": "stream",
     "text": [
      "Accuracy in SVM for USPS data  32.8016400820041 %\n"
     ]
    }
   ],
   "source": [
    "print('Accuracy in SVM for USPS data ',Lr.score(uspsMat,uspsTar)*100,'%')"
   ]
  },
  {
   "cell_type": "markdown",
   "metadata": {},
   "source": [
    "# Logistic Regression from Scratch"
   ]
  },
  {
   "cell_type": "code",
   "execution_count": null,
   "metadata": {},
   "outputs": [],
   "source": []
  },
  {
   "cell_type": "markdown",
   "metadata": {},
   "source": [
    "# Ensembling Classifiers (Voting Method)"
   ]
  },
  {
   "cell_type": "code",
   "execution_count": 20,
   "metadata": {},
   "outputs": [],
   "source": [
    "def getFrequent(list):\n",
    "    arr = np.array(list)\n",
    "    j = np.bincount(arr)\n",
    "    return np.argmax(j)\n",
    "\n",
    "def majorVoting(testD):\n",
    "    newPrediction = []\n",
    "    nn = model.predict(testD)\n",
    "    sv = svmModel.predict(testD)\n",
    "    rf = rfcModel.predict(testD)\n",
    "    lr = Lr.predict(testD)\n",
    "    for i in range(0,len(sv)):\n",
    "        predList = []\n",
    "        predList.append(np.argmax(nn[i]))\n",
    "        predList.append(sv[i])\n",
    "        predList.append(rf[i])\n",
    "        predList.append(lr[i])\n",
    "        newPrediction.append(getFrequent(predList))\n",
    "    return newPrediction\n",
    "    "
   ]
  },
  {
   "cell_type": "code",
   "execution_count": 21,
   "metadata": {},
   "outputs": [],
   "source": [
    "def getComb(data, targ):\n",
    "\n",
    "    majorPredict = np.array(majorVoting(data))\n",
    "    count = 0\n",
    "    \n",
    "    for i in range(0,len(targ)):\n",
    "        if majorPredict[i] == targ[i]:\n",
    "            count+=1\n",
    "    string = (' Combine Accuracy : ' , count/len(targ)*100 , '%')\n",
    "    return string"
   ]
  },
  {
   "cell_type": "code",
   "execution_count": 22,
   "metadata": {},
   "outputs": [
    {
     "name": "stdout",
     "output_type": "stream",
     "text": [
      "Testing data (' Combine Accuracy : ', 91.8, '%')\n",
      "Validation data (' Combine Accuracy : ', 92.10000000000001, '%')\n",
      "USPS data (' Combine Accuracy : ', 36.35681784089205, '%')\n"
     ]
    }
   ],
   "source": [
    "print('Testing data',getComb(testD,testT))\n",
    "print('Validation data',getComb(valD,valT))\n",
    "print('USPS data',getComb(uspsMat,uspsTar))"
   ]
  },
  {
   "cell_type": "code",
   "execution_count": null,
   "metadata": {},
   "outputs": [],
   "source": []
  }
 ],
 "metadata": {
  "kernelspec": {
   "display_name": "Python 3",
   "language": "python",
   "name": "python3"
  },
  "language_info": {
   "codemirror_mode": {
    "name": "ipython",
    "version": 3
   },
   "file_extension": ".py",
   "mimetype": "text/x-python",
   "name": "python",
   "nbconvert_exporter": "python",
   "pygments_lexer": "ipython3",
   "version": "3.6.6"
  }
 },
 "nbformat": 4,
 "nbformat_minor": 2
}
